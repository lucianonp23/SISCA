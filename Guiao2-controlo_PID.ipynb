{
 "cells": [
  {
   "cell_type": "code",
   "execution_count": 23,
   "id": "03ccdd11",
   "metadata": {},
   "outputs": [],
   "source": [
    "from   pyfirmata\t\t import Arduino, util\n",
    "from   scipy.integrate   import odeint\n",
    "\n",
    "import time\n",
    "import numpy             as np\n",
    "import matplotlib.pyplot as plt"
   ]
  },
  {
   "attachments": {},
   "cell_type": "markdown",
   "id": "c7e9151d-07bd-4709-a76d-bb5949bcfce8",
   "metadata": {},
   "source": [
    "# Controlo PID de sistemas térmicos\n",
    "\n",
    "O objetivo do trabalho é controlar a temperatura do sistema SERT usando um controlador proporcional, integral e derivativo (**PID**). "
   ]
  },
  {
   "cell_type": "markdown",
   "id": "50f470fd-98d9-4d81-a051-35565a8215f8",
   "metadata": {},
   "source": [
    "## 1. Introdução\n",
    "Uma primeira abordagem ao controlo poderá ser usar um simples controlador ON/OFF onde o sistema está totalmente a ON quando o erro é positivo (máxima potência) e totalmente a OFF quando o erro é negativo (potência nula). Uma abordagem mais adequada para o controlo é modular a potência do sistema na proporção do erro de temperatura existente e/ou da integral do erro e/ou da derivada do erro. Ou seja, se o sistema estiver a uma temperatura muita baixa (erro elevado), o sistema é colocado a ON durante mais tempo (mais potência), mas se este estiver a uma temperatura não tão baixa (erro mais pequeno), coloca-se o sistema durante menos tempo em ON (menos potência). Um tipo de controlador que fornece a soma de três ações de controlo, nomeadamente a ação proporcional ($P$), a ação integral ($I$) e a ação derivativa ($D$), é o chamado controlo Proporcional, Integral e Derivativo, ou simplesmente controlo **PID**. Matematicamente, é expresso por:\n",
    "\n",
    "$$ u(t)=K_p\\left(e(t) + \\frac{1}{T_i}\\int_{0}^{t}e(\\tau) d\\tau+T_d\\frac{de(t)}{dt} \\right) \\tag{1} $$\n",
    "\n",
    "em que $K_p$ é o ganho proporcional, $T_i$ a constante de tempo integral, e $T_d$ a constante de tempo derivativa. \n",
    "\n",
    "Uma outra forma de representar um controlador PID é dada por:\n",
    "\n",
    "$$ u(t)=K_p e(t) + K_i\\int_{0}^{t}e(\\tau) d\\tau + K_d\\frac{de(t)}{dt} = P(t) + I(t) + D(t) \\tag{2} $$\n",
    "\n",
    "onde $K_i=K_p⁄T_i$ é o ganho integral e $K_d=K_p T_d$ o ganho derivativo. $P$, $I$ e $D$ são respetivamente os termos proporcional, integral e derivativo. Embora as duas formas (1) e (2) sejam equivalentes, os valores dos parâmetros são muito diferentes.\n",
    "\n",
    "A correspondente função de transferência do controlador **PID** é:\n",
    "\n",
    "$$ C(s)=\\frac{U(s)}{E(s)} = K_p\\left(1 + \\frac{1}{T_i s} + T_d s \\right) = K_p + \\frac{K_i}{s} + K_d s \\tag{3} $$"
   ]
  },
  {
   "cell_type": "markdown",
   "id": "c8b59b67-dfce-4c08-b47a-e561e4c49bc1",
   "metadata": {},
   "source": [
    "## 2. Controlo do Sistema Térmico\n",
    "Considere para as experiências seguintes uma temperatura de referência de $T_{ref}=50$ °C e um período de amostragem de $T=1$ s. "
   ]
  },
  {
   "attachments": {
    "e139aa1b-1e91-4359-b6c7-c369792a66e0.PNG": {
     "image/png": "[encoded data removed]"
    }
   },
   "cell_type": "markdown",
   "id": "764ddabc-3d50-4272-9d42-b7be661199f8",
   "metadata": {},
   "source": [
    "### 2.1 Controlo P\n",
    "Um tipo de controlador em que o sinal de controlo é proporcional ao erro da temperatura é o chamado controlo Proporcional ou controlo **P**. Este pode ser obtido através da equação (2) colocando os parâmetros $K_i=K_d=0$, resultando:\n",
    "\n",
    "$$ u(t) = K_p e(t) $$\n",
    "\n",
    "O algoritmo de controlo do controlador **P** é dado por:\n",
    "\n",
    "$$ v(k) = K_p e(k)$$\n",
    "$$ u(k) = sat(v(k),u_{min},u_{max})$$\n",
    "\n",
    "em que $sat(\\cdot )$ é a função de saturação que adapta os valores do sinal de controlo para os limites do atuador, $u_{min}$ e $u_{max}$. \n",
    "\n",
    "A figura seguinte apresenta o diagrama de blocos do sistema em malha fechada com um controlador **P**.\n",
    "\n",
    "![controlo_P.PNG](attachment:e139aa1b-1e91-4359-b6c7-c369792a66e0.PNG)"
   ]
  },
  {
   "cell_type": "code",
   "execution_count": 24,
   "id": "e42d1614",
   "metadata": {},
   "outputs": [],
   "source": [
    "class ArduinoBoard():\n",
    "    \n",
    "    def __init__(self):\n",
    "#Porta COM #### AJUSTAR porta ####\n",
    "        board = Arduino('COM5')\n",
    "\n",
    "        iterator = util.Iterator(board)\n",
    "        iterator.start()\n",
    "\n",
    "# Entradas analógicas\n",
    "        self.T_S1 = board.get_pin('a:0:i') # A0\n",
    "        self.T_S2 = board.get_pin('a:1:i') # A1\n",
    "\n",
    "# Saídas PWM\n",
    "        self.S1 = board.get_pin('d:10:p')  # Pino 10\n",
    "        self.S2 = board.get_pin('d:9:p')   # Pino 9\n",
    "\n",
    "        time.sleep(1)\n",
    "\n",
    "# Função de conversão ADC - Temperatura\n",
    "    def TEMP(self,val):\n",
    "        return (val*5000.0-500.0)/10.0\n",
    "\n",
    "# Funções temperaturas\n",
    "    def T1(self):\n",
    "        return self.TEMP(self.T_S1.read())\n",
    "    \n",
    "    def T2(self):\n",
    "        return self.TEMP(self.T_S2.read())\n",
    "    \n",
    "    def write_S1(self, value):\n",
    "        self.S1.write(value)\n",
    "    \n",
    "    def write_S2(self, value):\n",
    "        self.S2.write(value)\n",
    "    \n",
    "    def endCom(self):\n",
    "        self.S1.write(0.0)\n",
    "        self.S2.write(0.0)\n",
    "        #self.board.exit()"
   ]
  },
  {
   "cell_type": "markdown",
   "id": "b883abe9-f088-458e-aba1-8045739757d3",
   "metadata": {},
   "source": [
    "Para as experiências com o controlador **P** utilize o sistema térmico 1 (sensor `S1`) do SERT. Neste caso, efetue o controlo do sistema durante um tempo de $t_{final}=200$ s. "
   ]
  },
  {
   "cell_type": "code",
   "execution_count": 25,
   "id": "78ea7fc3",
   "metadata": {},
   "outputs": [],
   "source": [
    "arduino=ArduinoBoard()\n",
    "PeriodAmost   = 1 \t\t\t\t\t\t\t\t\t\t# Periodo de Amostrage \n",
    "FinalTime     = 200.0\t\t\t\t\t\t\t\t\t# Tempo de experiência\n",
    "Amostras      = int(np.round(FinalTime/PeriodAmost+1))\t# Numero de amostras\n",
    "SinalControlo = np.zeros(Amostras)\t\t\t\t\t\t# Lista para recolher info sobre Sinal de Controlo aplicado\n",
    "YModelo       = np.ones(Amostras)*25.0\t\t\t\t\t# Lista para recolher info sobre a variação de temperatura\n",
    "Erro          = np.zeros(Amostras)\t\t\t\t\t\t# Lista para recolher info sobre a variação de erro\n",
    "TRef     \t  = np.ones(Amostras)*50.0\t\t\t\t\t# Lista que contem a temperatura de referencia\n",
    "TInicial \t  = 23.0\t\t\t\t\t\t\t\t\t# Temperatura inicial para fins de simulação\n",
    "K   \t\t  = 0.667\t\t\t\t\t\t\t\t\t# Ganho do sistema obtido no guião anterior\n",
    "tau \t\t  = 143.552\t\t\t\t\t\t\t\t\t# Tau do sistema obtido no guião anterior\n",
    "tauD \t\t  = 100.654\t\t\t\t\t\t\t\t\t# TauD do sistema obtido no guião anterior\n",
    "\n",
    "\n",
    "def ControloP(Kp, ErrorValue) :\n",
    "    return Kp * ErrorValue \n",
    "\n",
    "def Saturacao(Kp, Error):\n",
    "    return min(100, max(0, ControloP(Kp, Error)))\n",
    "\n",
    "def ControloP1(Kp):\n",
    "    for i in range(Amostras-1):\n",
    "\n",
    "        YModelo[i] = arduino.T1()\n",
    "\n",
    "        Erro[i] = TRef[i] - YModelo[i]\n",
    "\n",
    "        SinalControlo[i] = Saturacao(Kp, Erro[i])\n",
    "            \n",
    "        arduino.write_S1(SinalControlo[i]/100)\n",
    "\n",
    "        time.sleep(PeriodAmost)\n",
    "        \n",
    "    return TRef, YModelo, SinalControlo, Erro"
   ]
  },
  {
   "cell_type": "markdown",
   "id": "f43126c1-305c-4b24-8c96-d52a5b02e9d0",
   "metadata": {},
   "source": [
    "#### Ponto 1\n",
    "Obtenha o comportamento do sistema **SERT** com um controlador **P** para o seguinte conjunto de quatro valores arbitrários para o ganho proporcional: $K_p=1,5,10,20$."
   ]
  },
  {
   "cell_type": "markdown",
   "id": "a01b8d12-dc60-444f-ba5a-239167451776",
   "metadata": {},
   "source": [
    "**a)**\n",
    "\n",
    "Apresente as curvas de resposta da temperatura do sistema térmico e dos correspondentes sinais de controlo ($u$, em termos do *Duty Cycle*) para os vários valores do ganho $K_p$ considerados. Mostre também um gráfico do erro $e$ ao longo do tempo entre a temperatura de referência $T_{ref}$ e a temperatura atual do sistema."
   ]
  },
  {
   "cell_type": "code",
   "execution_count": 26,
   "id": "a64bb37f-78ea-4088-a958-77a3aed18214",
   "metadata": {},
   "outputs": [
    {
     "name": "stdout",
     "output_type": "stream",
     "text": [
      "Starting Kp = 1\n",
      "Starting Kp = 5\n",
      "Starting Kp = 10\n",
      "Starting Kp = 20\n"
     ]
    }
   ],
   "source": [
    "#---------------------------------------------------#\n",
    "#\t\t  Controlo P para Sistema Sem Atraso  \t\t#\n",
    "#---------------------------------------------------#\n",
    "\n",
    "Kp = [1,5, 10, 20]\n",
    "\n",
    "print(f\"Starting Kp = {Kp[0]}\")\n",
    "\n",
    "TRefKp0, YModeloKp0, SinalControloKp0, ErroKp0 = ControloP1(Kp[0])\n",
    "\n",
    "temp = 1000\n",
    "\n",
    "'''\n",
    "\tCertificar que a próxima experiência ocorre com valor de temperatura perto da temperatura inicial\n",
    "'''\n",
    "arduino.write_S1(0)\n",
    "while(temp > 23):\n",
    "    time.sleep(1)\n",
    "    temp = arduino.T1()\n",
    "\n",
    "arduino.write_S1(0)\n",
    "\n",
    "while(arduino.T2() > 25):\n",
    "\ttime.sleep(1)\n",
    "\n",
    "print(f\"Starting Kp = {Kp[1]}\")\n",
    "\n",
    "TRefKp1, YModeloKp1, SinalControloKp1, ErroKp1 = ControloP1(Kp[1])\n",
    "\n",
    "arduino.write_S1(0)\n",
    "\n",
    "while(temp > 23):\n",
    "    time.sleep(1)\n",
    "    temp = arduino.T1()\n",
    "\n",
    "print(f\"Starting Kp = {Kp[2]}\")\n",
    "\n",
    "TRefKp2, YModeloKp2, SinalControloKp2, ErroKp2 = ControloP1(Kp[2])\n",
    "\n",
    "while(temp > 23):\n",
    "    time.sleep(1)\n",
    "    temp = arduino.T1()\n",
    "\n",
    "print(f\"Starting Kp = {Kp[3]}\")\n",
    "\n",
    "\n",
    "TRefKp3, YModeloKp3, SinalControloKp3, ErroKp3 = ControloP1(Kp[3])\n",
    "\n",
    "arduino.endCom()\n",
    "\n",
    "dados = np.vstack((TRefKp0, YModeloKp0, SinalControloKp0, ErroKp0)).T\n",
    "np.savetxt(f\"./ControloP_Kp0.txt\", dados, delimiter=',', header = 'coisas para dar skip',comments='')\n",
    "dados = np.vstack((TRefKp1, YModeloKp1, SinalControloKp1, ErroKp1)).T\n",
    "np.savetxt(f\"./ControloP_Kp1.txt\", dados, delimiter=',', header = 'coisas para dar skip',comments='')\n",
    "dados = np.vstack((TRefKp2, YModeloKp2, SinalControloKp2, ErroKp2)).T\n",
    "np.savetxt(f\"./ControloP_Kp2.txt\", dados, delimiter=',', header = 'coisas para dar skip',comments='')\n",
    "dados = np.vstack((TRefKp3, YModeloKp3, SinalControloKp3, ErroKp3)).T\n",
    "np.savetxt(f\"./ControloP_Kp3.txt\", dados, delimiter=',', header = 'coisas para dar skip',comments='')\n",
    "\n",
    "\n",
    "plt.figure(1)\n",
    "ax = plt.subplot(2,1,1)\n",
    "ax.grid()\n",
    "plt.plot(YModeloKp0, '#4FFF33', linewidth = 2, label='Kp=1')\n",
    "plt.plot(YModeloKp1, '#33A5FF', linewidth = 2, label='Kp=5')\n",
    "plt.plot(YModeloKp2, '#B533FF', linewidth = 2, label='Kp=10')\n",
    "plt.plot(YModeloKp3, '#ffff00', linewidth = 2, label='Kp=20')\n",
    "plt.plot(TRefKp2, 'k-', linewidth = 2, label='Temperatura Referência')\n",
    "plt.ylabel('Temperatura ($^oC$)')\n",
    "plt.legend(loc='best')\n",
    "\n",
    "ax = plt.subplot(2,1,2)\n",
    "ax.grid()\n",
    "plt.plot(SinalControloKp0,'#4FFF33',label='Sinal Controlo Kp=1')\n",
    "plt.plot(SinalControloKp1,'#33A5FF',label='Sinal Controlo Kp=5')\n",
    "plt.plot(SinalControloKp2,'#B533FF',label='Sinal Controlo Kp=10')\n",
    "plt.plot(SinalControloKp3,'#ffff00',label='Sinal Controlo Kp=20')\n",
    "plt.ylabel('Sinal de Controlo ($\\%$)')\n",
    "plt.xlabel('Tempo (s)')\n",
    "plt.legend()\n",
    "plt.savefig(f\"./SERTCompKps.png\")\n",
    "plt.close()\n",
    "\n",
    "plt.figure(2)\n",
    "plt.grid()\n",
    "plt.plot(ErroKp0, '#4FFF33', linewidth = 2, label = \"Erro Kp=1\")\n",
    "plt.plot(ErroKp1, '#33A5FF', linewidth = 2, label = \"Erro Kp=5\")\n",
    "plt.plot(ErroKp2, '#B533FF', linewidth = 2, label = \"Erro Kp=10\")\n",
    "plt.plot(ErroKp3, '#ffff00', linewidth = 2, label = \"Erro Kp=20\")\n",
    "plt.ylabel('Erro ($\\%$)')\n",
    "plt.legend(loc='best')\n",
    "plt.xlabel('Tempo (s)')\n",
    "plt.savefig(f\"./SERTCompErrosKp.png\")\n",
    "plt.close()"
   ]
  },
  {
   "cell_type": "markdown",
   "id": "58caa719-68fe-43a6-821b-7b776b768845",
   "metadata": {},
   "source": [
    "**b)**\n",
    "\n",
    "As curvas de temperatura apresentam o comportamento desejado? Refira-se tanto ao comportamento transitório como ao do regime permanente. Justifique considerando os vários valores do ganho $K_p$ utilizados e na análise dos seguintes parâmetros:\n",
    "* Valores do erro em regime permanente do sistema, $e_{ss}$\n",
    "* Sinais de controlo, $u$ "
   ]
  },
  {
   "cell_type": "code",
   "execution_count": null,
   "id": "d85f13b8-5a36-4a1a-8dac-ef78f9501ff8",
   "metadata": {},
   "outputs": [],
   "source": [
    "# Insira os comentários AQUI\n",
    "\n",
    "\n"
   ]
  },
  {
   "attachments": {
    "e06f527c-5aa5-49ce-b4dc-238e8e93b234.PNG": {
     "image/png": "[encoded data removed]"
    }
   },
   "cell_type": "markdown",
   "id": "33b17262-a94e-40e8-955c-4dc870e7d795",
   "metadata": {},
   "source": [
    "#### Ponto 2\n",
    "Simule o sistema de controlo em malha fechada da temperatura usando um o controlador **P**, $C(s)=K_p$, conforme representado na figura seguinte. \n",
    "\n",
    "![controlo_P_simul.PNG](attachment:e06f527c-5aa5-49ce-b4dc-238e8e93b234.PNG)\n",
    "\n",
    "Para isso, utilize o modelo de primeira ordem identificado no Guião do Trabalho No. 1, com a função de transferência:\n",
    "\n",
    "$$ G(s)=\\frac{Y(s)}{U(s)}=\\frac{K}{τs+1} $$\n",
    "\n",
    "e os parâmetros $(K,\\tau)$ identificados do sistema SERT (sensor `S1`). \n",
    "\n",
    "A correspondente equação diferencial é dada por:\n",
    "\n",
    "$$ \\tau \\frac{dy(t)}{dt} + y(t) = K u(t)$$ "
   ]
  },
  {
   "cell_type": "markdown",
   "id": "6e14d39c-8ce8-4dad-bed8-3a64b4ac42cf",
   "metadata": {},
   "source": [
    "**a)**\n",
    "\n",
    "Apresente as curvas de resposta da temperatura do sistema simulado e dos correspondentes sinais de controlo ($u$) para os ganhos do controlador **P** considerados no **Ponto 1**: $K_p=1,5,10,20$. Mostre também um gráfico do erro ao longo do tempo entre a referência de temperatura $T_{ref}$ e a temperatura simulada do sistema."
   ]
  },
  {
   "cell_type": "code",
   "execution_count": null,
   "id": "a85d21e8-f76a-4758-897b-a1724b8222f6",
   "metadata": {},
   "outputs": [],
   "source": [
    "# Coloque o código AQUI\n",
    "\n",
    "\n"
   ]
  },
  {
   "cell_type": "markdown",
   "id": "62b34a2c-973d-4474-b0fa-0b140bfc15f8",
   "metadata": {},
   "source": [
    "**b)**\n",
    "\n",
    "Compare as curvas de simulação (temperatura e sinal de controlo) obtidas em **a)** com as respostas experimentais do **Ponto 1**. Comente eventuais diferenças existentes entre ambas as respostas. "
   ]
  },
  {
   "cell_type": "code",
   "execution_count": null,
   "id": "cac28457-fb46-45ac-86b6-25238586232c",
   "metadata": {},
   "outputs": [],
   "source": [
    "# Coloque o código/comentários AQUI\n",
    "\n",
    "\n"
   ]
  },
  {
   "cell_type": "markdown",
   "id": "e504b021-7817-4395-b5ab-a0081157bf64",
   "metadata": {},
   "source": [
    "### 2.2\tControlo PI\n",
    "\n",
    "Adicionando o controlo $P$ à integral do erro ($I$) obtemos o chamado controlo Proporcional e Integral ou simplesmente controlo **PI**. Este pode ser obtido através da equação (2) colocando o parâmetro $K_d=0$, resultando:\n",
    "\n",
    "$$ u(t)=K_p\\left(e(t) + \\frac{1}{T_i}\\int_{0}^{t}e(\\tau) d\\tau \\right) =  K_p e(t) + \\frac{K_p}{T_i}\\int_{0}^{t}e(\\tau) d\\tau = P(t) + I(t) $$\n",
    "\n",
    "Um possível algoritmo de controlo do controlador **PI** é dado por:\n",
    "\n",
    "$$ P(k) = K_p e(k)$$\n",
    "$$ v(k) = P(k) + I(k)$$\n",
    "$$ u(k) = sat(v(k),u_{min},u_{max})$$\n",
    "$$I(k+1) = I(k) + \\frac{K_P T}{T_i}  e(k)$$\n"
   ]
  },
  {
   "attachments": {
    "ffcd2645-58c9-4546-8599-3e3cd33bd319.PNG": {
     "image/png": "[encoded data removed]"
    }
   },
   "cell_type": "markdown",
   "id": "6163d23e-de7a-4618-bf93-10fdd9decdf0",
   "metadata": {},
   "source": [
    "A figura seguinte apresenta o diagrama de blocos do sistema em malha fechada com um controlador **PI**.\n",
    "\n",
    "![controlo_PI.PNG](attachment:ffcd2645-58c9-4546-8599-3e3cd33bd319.PNG)\n",
    "\n",
    "\n"
   ]
  },
  {
   "cell_type": "markdown",
   "id": "e8113405-5819-4c0a-8167-b17d5ccc4911",
   "metadata": {},
   "source": [
    "Para as experiências com o controlador **PI** utilize o sistema térmico 2 (sensor `S2`) do SERT. Neste caso, efetue o controlo do sistema durante um tempo de $t_{final}=600$ s. \n"
   ]
  },
  {
   "attachments": {},
   "cell_type": "markdown",
   "id": "d2584b67-453a-40a3-b287-93e31fdc03cb",
   "metadata": {},
   "source": [
    "#### Ponto 1\n",
    "Obtenha o comportamento do sistema SERT com um controlador **PI** para $K_p=5$  e $T_i=20,50,100$."
   ]
  },
  {
   "cell_type": "markdown",
   "id": "66c1ebec-9845-4157-8101-7791f7528af8",
   "metadata": {},
   "source": [
    "**a)**\n",
    "\n",
    "Para cada valor da constante $T_i$ , apresente num gráfico a curva de resposta da temperatura do sistema térmico e num outro gráfico os correspondentes sinais de controlo $(u)$, valor da componente proporcional $(P)$ e valor da componente integrativa $(I)$. Explique os valores de cada um dos termos à medida que a temperatura sobe e estabiliza em torno da referência desejada. "
   ]
  },
  {
   "cell_type": "code",
   "execution_count": null,
   "id": "8b631400-7ad0-4579-9b91-147fa9e2aa75",
   "metadata": {},
   "outputs": [],
   "source": [
    "# Coloque o código/comentários AQUI\n",
    "\n",
    "\n"
   ]
  },
  {
   "attachments": {},
   "cell_type": "markdown",
   "id": "1a8320aa-d0c1-4770-879a-3d8a81cdc948",
   "metadata": {},
   "source": [
    "**b)**\n",
    "\n",
    "Esboce num gráfico as curvas de temperatura do sistema térmico e num outro gráfico os correspondentes sinais de controlo ($u$) para os diferentes valores da constante $T_i$ considerados. Explique o fenómeno que leva a saída a apresentar um \"overshoot\"."
   ]
  },
  {
   "cell_type": "code",
   "execution_count": null,
   "id": "0f5bd538-9975-47cc-a64b-a9359d3c597c",
   "metadata": {},
   "outputs": [],
   "source": [
    "# Coloque o código/comentários AQUI\n",
    "\n"
   ]
  },
  {
   "cell_type": "markdown",
   "id": "d660de7e-1b71-446f-b3b7-2812909a292c",
   "metadata": {},
   "source": [
    "**c)**\t\n",
    "\n",
    "Indique quais as consequências de adicionar um controlo integral ao sistema."
   ]
  },
  {
   "cell_type": "code",
   "execution_count": null,
   "id": "6e37be89-5aa7-485a-9e05-ac92169b8085",
   "metadata": {},
   "outputs": [],
   "source": [
    "# Insira os comentários AQUI\n",
    "\n",
    "\n"
   ]
  },
  {
   "attachments": {
    "2d50698c-84c2-4d02-b789-658ba3e2748a.PNG": {
     "image/png": "[encoded data removed]"
    }
   },
   "cell_type": "markdown",
   "id": "1c17692c-e367-4d8b-a485-220e0b4210f7",
   "metadata": {},
   "source": [
    "#### Ponto 2\n",
    "Simule o sistema de controlo em malha fechada da temperatura usando um controlador **PI**, $C(s)=K_p+K_i/s$, conforme representado na figura seguinte. Para isso, utilize o modelo de primeira ordem com atraso identificado no Guião do Trabalho No. 1, com a função de transferência:\n",
    "\n",
    "$$ G(s)=\\frac{Y(s)}{U(s)}=\\frac{Ke^{-\\tau_Ds}}{τs+1} \\tag{4}$$\n",
    "\n",
    "e os parâmetros $(K, \\tau, \\tau_D)$ identificados do sistema SERT (sensor `S2`). \n",
    "\n",
    "![controlo_PI_simul.PNG](attachment:2d50698c-84c2-4d02-b789-658ba3e2748a.PNG)\n",
    "\n",
    "A correspondente equação diferencial é dada por:\n",
    "\n",
    "$$ \\tau \\frac{dy(t)}{dt} + y(t) = K u(t-\\tau_D)$$ "
   ]
  },
  {
   "cell_type": "markdown",
   "id": "b2fa9fcb-8f4a-4ed4-9a10-c3707c49c5a0",
   "metadata": {},
   "source": [
    "**a)**\n",
    "\n",
    "Apresente as curvas de resposta da temperatura do sistema simulado e dos correspondentes sinais de controlo ($u$) para os mesmos valores da constante  $T_i$  do controlador **PI** considerados no **Ponto 1**: $T_i=20,50,100$,  mantendo o ganho $K_p=5$."
   ]
  },
  {
   "cell_type": "code",
   "execution_count": null,
   "id": "13ea1756-fbd6-40dd-bf25-8ca655610d96",
   "metadata": {},
   "outputs": [],
   "source": [
    "# Coloque o código/comentários AQUI\n",
    "\n",
    "\n"
   ]
  },
  {
   "attachments": {},
   "cell_type": "markdown",
   "id": "a579250d-7199-4bcc-b827-c487b589d453",
   "metadata": {},
   "source": [
    "**b)**\n",
    "\n",
    "Compare as curvas de simulação (temperatura e sinal de controlo) obtidas em **a)** com as respostas experimentais do **Ponto 1**. Comente eventuais diferenças existentes entre ambas as respostas. "
   ]
  },
  {
   "cell_type": "code",
   "execution_count": null,
   "id": "08ba4d19-42fd-4b1a-ae4e-fceeeafb41e6",
   "metadata": {},
   "outputs": [],
   "source": [
    "# Coloque o código/comentários AQUI\n",
    "\n",
    "\n"
   ]
  },
  {
   "cell_type": "markdown",
   "id": "666ce3cb-c742-4a00-b50b-87d5e61bb55e",
   "metadata": {},
   "source": [
    "#### Ponto 3\n",
    "Faça a sintonia do controlador **PI** aplicando o método de Ziegler-Nichols \n",
    "(Z-N) em malha aberta. Para isso, utilize os parâmetros $(K,τ,τ_d)$ identificados do sistema SERT (sensor `S2`) referente ao modelo de primeira ordem com atraso (função de transferência (4)) identificado no Guião do Trabalho No. 1."
   ]
  },
  {
   "cell_type": "markdown",
   "id": "87a9bf01-4968-4650-83b5-8f7b276b4af5",
   "metadata": {},
   "source": [
    "**a)**\n",
    "\n",
    "Obtenha os parâmetros $(K_p, T_i)$ do controlador **PI**."
   ]
  },
  {
   "cell_type": "code",
   "execution_count": null,
   "id": "2f3bcc54-8ee4-4fb6-a066-d377209974e3",
   "metadata": {},
   "outputs": [],
   "source": [
    "# Coloque o código AQUI\n",
    "\n",
    "\n"
   ]
  },
  {
   "cell_type": "markdown",
   "id": "c436676a-e60f-42d1-9ab9-0a222dec3bb7",
   "metadata": {},
   "source": [
    "**b)**\n",
    "\n",
    "Apresente a curva de resposta da temperatura do sistema térmico e do correspondente sinal de controlo ($u$) para as constantes de sintonia obtidas em **a)**."
   ]
  },
  {
   "cell_type": "code",
   "execution_count": null,
   "id": "d021b288-9892-4d07-9f41-83f54e161119",
   "metadata": {},
   "outputs": [],
   "source": [
    "# Coloque o código AQUI\n",
    "\n",
    "\n"
   ]
  },
  {
   "cell_type": "markdown",
   "id": "8e846920-5d4a-4933-9413-b23a19626ddd",
   "metadata": {},
   "source": [
    "**c)**\n",
    "\n",
    "Comente o desempenho do controlador usando as constantes calculadas."
   ]
  },
  {
   "cell_type": "code",
   "execution_count": null,
   "id": "63605f0c-d4ba-49c1-aec1-3e4b8d817fe6",
   "metadata": {},
   "outputs": [],
   "source": [
    "# Insira os comentários AQUI\n",
    "\n",
    "\n"
   ]
  },
  {
   "cell_type": "markdown",
   "id": "167718e1-63f2-4486-a2cd-f92f1560e5d7",
   "metadata": {},
   "source": [
    "#### Ponto 4\n",
    "Faça a sintonia do controlador **PI** aplicando o método IMC. Para isso, utilize os parâmetros $(K,τ,τ_d)$   identificados do sistema SERT (sensor `S2`) referente ao modelo de primeira ordem com atraso (função de transferência (4)) identificado no Guião do Trabalho No. 1."
   ]
  },
  {
   "cell_type": "markdown",
   "id": "c0b01556-ea54-4a3d-84a0-b7071c29d17e",
   "metadata": {},
   "source": [
    "**a)**\n",
    "\n",
    "Obtenha os parâmetros $(K_p, T_i)$ do controlador **PI** para os valores de \n",
    "$τ_C=τ⁄10$, $τ_C=τ⁄5$  e $τ_C=τ⁄2$."
   ]
  },
  {
   "cell_type": "code",
   "execution_count": null,
   "id": "e862144d-d1bf-4de2-8d87-560fb5550bc7",
   "metadata": {},
   "outputs": [],
   "source": [
    "# Coloque o código AQUI\n",
    "\n",
    "\n"
   ]
  },
  {
   "cell_type": "markdown",
   "id": "5eb7b978-a547-454b-96ba-0cd95061a531",
   "metadata": {},
   "source": [
    "**b)**\n",
    "\n",
    "Apresente num gráfico as curvas de resposta da temperatura do sistema térmico e num outro gráfico os correspondentes sinais de controlo ($u$) para os parâmetros de sintonia calculados em **a)**."
   ]
  },
  {
   "cell_type": "code",
   "execution_count": null,
   "id": "86a8e99f-f71d-4060-9acf-13b60ce84b85",
   "metadata": {},
   "outputs": [],
   "source": [
    "# Coloque o código AQUI\n",
    "\n",
    "\n"
   ]
  },
  {
   "cell_type": "markdown",
   "id": "b3543a98-c391-4ac8-bd32-785cee87e77f",
   "metadata": {},
   "source": [
    "**c)**\n",
    "\n",
    "Comente o desempenho do controlador usando as referidas sintonias."
   ]
  },
  {
   "cell_type": "code",
   "execution_count": null,
   "id": "79499cda-bd20-4343-a1a4-e4b16c6057ad",
   "metadata": {},
   "outputs": [],
   "source": [
    "# Insira os comentários AQUI\n",
    "\n",
    "\n"
   ]
  },
  {
   "attachments": {
    "5146f1a8-d45a-4b61-996f-91e2e643a26e.PNG": {
     "image/png": "[encoded data removed]"
    }
   },
   "cell_type": "markdown",
   "id": "4dd715c4-d0e1-48f3-b5e2-5370cc26e95a",
   "metadata": {},
   "source": [
    "#### Ponto 5\n",
    "Existem diversos métodos para reduzir o efeito do *windup* verificado nas experiências anteriores. A figura seguinte apresenta um possível diagrama de um sistema em malha fechada com um controlador **PI** e um esquema\n",
    " *anti-windup*.\n",
    "\n",
    " ![controlo_PI_anti_windup.PNG](attachment:5146f1a8-d45a-4b61-996f-91e2e643a26e.PNG)\n",
    "\n",
    " O algoritmo do controlador **PI** com o esquema *anti-windup* é dado pelas seguintes equações:\n",
    "\n",
    "$$ P(k) = K_p e(k)$$\n",
    "$$ v(k) = P(k) + I(k)$$\n",
    "$$ u(k) = sat(v(k),u_{min},u_{max})$$\n",
    "$$I(k+1) = I(k) + \\frac{K_P T}{T_i} e(k) + TK_a \\left(u(k) - v(k)\\right)$$\n",
    " "
   ]
  },
  {
   "cell_type": "markdown",
   "id": "2bbaf9eb-9c65-4185-a0f0-0da3953ee180",
   "metadata": {},
   "source": [
    "Para a realização das experiências, considere os parâmetros do controlador **PI** obtidos no **Ponto 3a)** usando o método de Ziegler-Nichols em malha aberta."
   ]
  },
  {
   "cell_type": "markdown",
   "id": "80ed40f5-8cbf-4aaf-97fe-631ea4d06be5",
   "metadata": {},
   "source": [
    "**a)**\n",
    "\n",
    "Obtenha o comportamento do sistema SERT para os valores do ganho *anti-windup* $K_a = 0.02, 0.1, 0.2$. Para cada valor do ganho $K_a$, apresente num gráfico a curva de resposta da temperatura do sistema térmico e num outro gráfico os correspondentes sinal de controlo ($u$), valor da componente proporcional ($P$) e valor da componente integrativa ($I$). Explique a evolução de cada um dos sinais do sistema."
   ]
  },
  {
   "cell_type": "code",
   "execution_count": null,
   "id": "9e50a72a-24f7-42b1-a9d7-231f378b6d1a",
   "metadata": {},
   "outputs": [],
   "source": [
    "# Coloque o código/comentários AQUI\n",
    "\n",
    "\n"
   ]
  },
  {
   "cell_type": "markdown",
   "id": "e171bc81-a3f8-4fd6-8bd0-6c631fc5500e",
   "metadata": {},
   "source": [
    "**b)**\n",
    "\n",
    "Compare os resultados com o esquema *anti-windup* e sem o esquema *anti-windup*. Esboce num gráfico as curvas de temperatura do sistema térmico e num outro gráfico os sinais de controlo ($u$) aplicados ao sistema. Comente os resultados obtidos."
   ]
  },
  {
   "cell_type": "code",
   "execution_count": null,
   "id": "4776fdd7-3d47-4f77-a812-dde31f20ee5a",
   "metadata": {},
   "outputs": [],
   "source": [
    "# Coloque o código/comentários AQUI\n",
    "\n",
    "\n"
   ]
  }
 ],
 "metadata": {
  "kernelspec": {
   "display_name": "Python 3",
   "language": "python",
   "name": "python3"
  },
  "language_info": {
   "codemirror_mode": {
    "name": "ipython",
    "version": 3
   },
   "file_extension": ".py",
   "mimetype": "text/x-python",
   "name": "python",
   "nbconvert_exporter": "python",
   "pygments_lexer": "ipython3",
   "version": "3.11.2"
  }
 },
 "nbformat": 4,
 "nbformat_minor": 5
}
